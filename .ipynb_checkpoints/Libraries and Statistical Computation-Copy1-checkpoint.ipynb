{
 "cells": [
  {
   "cell_type": "markdown",
   "metadata": {},
   "source": [
    "### Libraries to be used\n",
    "\n",
    "- Numpy\n",
    "- Matplotlib\n",
    "- Pandas\n",
    "- OpenCV"
   ]
  },
  {
   "cell_type": "code",
   "execution_count": 7,
   "metadata": {},
   "outputs": [],
   "source": [
    "# import the libraries\n",
    "import numpy as np\n",
    "import pandas as pd\n",
    "from matplotlib import pyplot as plt\n",
    "import cv2"
   ]
  },
  {
   "cell_type": "markdown",
   "metadata": {},
   "source": []
  },
  {
   "cell_type": "markdown",
   "metadata": {},
   "source": [
    "### Numpy Arrays and Operations"
   ]
  },
  {
   "cell_type": "code",
   "execution_count": 16,
   "metadata": {},
   "outputs": [
    {
     "name": "stdout",
     "output_type": "stream",
     "text": [
      "[[1. 1. 1. 1.]\n",
      " [1. 1. 1. 1.]\n",
      " [1. 1. 1. 1.]]\n"
     ]
    }
   ],
   "source": [
    "# Convert lists to numpy arrays\n",
    "li = [[2,3],[5,6]]\n",
    "arr1 = np.array(li, dtype=np.uint8)\n",
    "arr2 = np.asarray(li, dtype=np.float32)\n",
    "\n",
    "#print(li, type(li))\n",
    "#print(arr1,type(arr1), arr1.dtype)\n",
    "#print(arr2,type(arr2),arr2.dtype)\n",
    "li1 = list(arr1)\n",
    "#print(li1)\n",
    "\n",
    "# Create New numpy arrays\n",
    "arr3 = np.eye(5)\n",
    "arr4 = np.zeros((3,4))\n",
    "arr5 = np.ones((3,4))\n",
    "\n",
    "#print(arr3[0][0])\n",
    "\n",
    "\n",
    "#print(arr3)\n",
    "#print(arr4)\n",
    "#print(arr5)\n",
    "\n",
    "\n",
    "# Copy numpy arrays\n",
    "\n",
    "arr6 = np.copy(arr5)\n",
    "#print(arr6)\n",
    "\n",
    "# Shapes of numpy arrays and multi-dimensional arrays\n",
    "\n",
    "# Reshape, Transpose, Concatenate numpy arrays\n",
    "\n",
    "#expand dims"
   ]
  },
  {
   "cell_type": "code",
   "execution_count": null,
   "metadata": {},
   "outputs": [],
   "source": []
  },
  {
   "cell_type": "markdown",
   "metadata": {},
   "source": [
    "### Matplotlib"
   ]
  },
  {
   "cell_type": "code",
   "execution_count": null,
   "metadata": {},
   "outputs": [],
   "source": [
    "#plt.style.available"
   ]
  },
  {
   "cell_type": "code",
   "execution_count": null,
   "metadata": {},
   "outputs": [],
   "source": [
    "# plot simple ranges\n"
   ]
  },
  {
   "cell_type": "code",
   "execution_count": null,
   "metadata": {},
   "outputs": [],
   "source": [
    "# Plot sine wave, cosine wave, and some lines\n"
   ]
  },
  {
   "cell_type": "markdown",
   "metadata": {},
   "source": []
  },
  {
   "cell_type": "markdown",
   "metadata": {},
   "source": [
    "### OpenCV and Scikit-Image"
   ]
  },
  {
   "cell_type": "code",
   "execution_count": null,
   "metadata": {},
   "outputs": [],
   "source": [
    "# Loading an image\n",
    "\n",
    "\n",
    "# Dispalying an image\n",
    "\n",
    "\n",
    "# Convert image to grayscale\n",
    "\n",
    "\n",
    "# Resize image\n"
   ]
  },
  {
   "cell_type": "markdown",
   "metadata": {},
   "source": []
  },
  {
   "cell_type": "markdown",
   "metadata": {},
   "source": [
    "### Pandas"
   ]
  },
  {
   "cell_type": "code",
   "execution_count": null,
   "metadata": {},
   "outputs": [],
   "source": [
    "# Load the movie meta-data dataset\n",
    "\n"
   ]
  },
  {
   "cell_type": "code",
   "execution_count": null,
   "metadata": {},
   "outputs": [],
   "source": [
    "# Get the values as numpy array and check shape"
   ]
  },
  {
   "cell_type": "code",
   "execution_count": null,
   "metadata": {},
   "outputs": [],
   "source": [
    "# Print all columns\n"
   ]
  },
  {
   "cell_type": "code",
   "execution_count": null,
   "metadata": {},
   "outputs": [],
   "source": [
    "# Print a few movie titles\n"
   ]
  },
  {
   "cell_type": "markdown",
   "metadata": {},
   "source": []
  },
  {
   "cell_type": "markdown",
   "metadata": {},
   "source": [
    "### Mean, Variance, Std. Dev.\n",
    "\n",
    "Mean:\n",
    "\n",
    "$$\\mu = \\frac{\\sum_{i}{x_i}}{N}$$\n",
    "\n",
    "Variance:\n",
    "\n",
    "$$ Var(x) = \\frac{\\sum_i(x_i - \\mu)^2}{N} $$\n",
    "\n",
    "Std. deviation:\n",
    "\n",
    "$$ \\sigma_x = \\sqrt{\\frac{\\sum_i(x_i - \\mu)^2}{N}} $$\n",
    "\n",
    "### Co-Variance\n",
    "\n",
    "$$\n",
    "\\Sigma = \n",
    "\\begin{bmatrix}\n",
    "    \\sigma^2_{11}       & \\sigma^2_{12} & \\sigma^2_{13} & \\dots & \\sigma^2_{1n} \\\\\n",
    "    \\sigma^2_{21}       & \\sigma^2_{22} & \\sigma^2_{23} & \\dots & \\sigma^2_{2n} \\\\\n",
    "    \\dots \\\\\n",
    "    \\sigma^2_{n1}       & \\sigma^2_{n2} & \\sigma^2_{n3} & \\dots & \\sigma^2_{nn}\n",
    "\\end{bmatrix}\n",
    "$$"
   ]
  },
  {
   "cell_type": "markdown",
   "metadata": {},
   "source": [
    "1. __Random Variable__\n",
    "2. __Distribution Function__:\n",
    "    - The _cumulative distribution function_: $F_X(x) = \\mathbb{P}(X \\leq x)$\n",
    "    - Bernoulli Distribution function: $f(x) = p^x(1-p)^{1-x};   x \\in \\{0, 1\\}$\n",
    "    - Binomial distribution...\n",
    "3. __Normal Distribution__:\n",
    "$$ f(x) = \\frac{1}{\\sigma \\sqrt{2 \\pi}} exp\\{- \\frac{1}{2 \\sigma^2} (x - \\mu)^2 \\} $$\n",
    "4. __Standard Normal Distribution__"
   ]
  },
  {
   "cell_type": "markdown",
   "metadata": {},
   "source": []
  },
  {
   "cell_type": "code",
   "execution_count": null,
   "metadata": {},
   "outputs": [],
   "source": [
    "# Create and plot frequency of each title length\n",
    "\n"
   ]
  },
  {
   "cell_type": "code",
   "execution_count": null,
   "metadata": {},
   "outputs": [],
   "source": []
  },
  {
   "cell_type": "code",
   "execution_count": 9,
   "metadata": {},
   "outputs": [
    {
     "data": {
      "text/plain": [
       "0.6666666666666666"
      ]
     },
     "execution_count": 9,
     "metadata": {},
     "output_type": "execute_result"
    }
   ],
   "source": [
    "2 / 3 #by default will give float , if explicitely you want to do integer division then use //"
   ]
  },
  {
   "cell_type": "code",
   "execution_count": 10,
   "metadata": {},
   "outputs": [
    {
     "data": {
      "text/plain": [
       "0"
      ]
     },
     "execution_count": 10,
     "metadata": {},
     "output_type": "execute_result"
    }
   ],
   "source": [
    "2 // 3"
   ]
  },
  {
   "cell_type": "markdown",
   "metadata": {},
   "source": [
    "### Assignment-2"
   ]
  },
  {
   "cell_type": "code",
   "execution_count": null,
   "metadata": {},
   "outputs": [],
   "source": [
    "# Generating random numbers\n",
    "\n",
    "# (a:0.5, b:0.2, c:0.3)"
   ]
  },
  {
   "cell_type": "code",
   "execution_count": null,
   "metadata": {},
   "outputs": [],
   "source": [
    "# Plot Random numbers as scatter plot"
   ]
  },
  {
   "cell_type": "code",
   "execution_count": null,
   "metadata": {},
   "outputs": [],
   "source": [
    "# Generate Normal distribution in 2D"
   ]
  },
  {
   "cell_type": "code",
   "execution_count": null,
   "metadata": {},
   "outputs": [],
   "source": [
    "# Convert to Standard Normal Distribution"
   ]
  },
  {
   "cell_type": "code",
   "execution_count": null,
   "metadata": {},
   "outputs": [],
   "source": [
    "# plot the normal and standard normal distribution. "
   ]
  }
 ],
 "metadata": {
  "kernelspec": {
   "display_name": "Python 3",
   "language": "python",
   "name": "python3"
  },
  "language_info": {
   "codemirror_mode": {
    "name": "ipython",
    "version": 3
   },
   "file_extension": ".py",
   "mimetype": "text/x-python",
   "name": "python",
   "nbconvert_exporter": "python",
   "pygments_lexer": "ipython3",
   "version": "3.6.8"
  }
 },
 "nbformat": 4,
 "nbformat_minor": 2
}
